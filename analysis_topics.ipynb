{
  "nbformat": 4,
  "nbformat_minor": 0,
  "metadata": {
    "colab": {
      "name": "analysis-topics.ipynb",
      "version": "0.3.2",
      "provenance": [],
      "collapsed_sections": [
        "NO7sjxQ77sLH",
        "AhnqrF-l1SN-",
        "uQbmkN8r1Kee",
        "3k0FwXSTASQE",
        "EBSKtWKn7k-X",
        "CcDLsJ96rwUe",
        "E42bQOgB9FzQ",
        "nEzcNUhE71zl",
        "bXkQBVC1ikUo",
        "DbwoXGHFnQgb",
        "EA4IwAfnphtc",
        "Z2KeQ2twbEl2"
      ],
      "include_colab_link": true
    },
    "kernelspec": {
      "name": "python3",
      "display_name": "Python 3"
    }
  },
  "cells": [
    {
      "cell_type": "markdown",
      "metadata": {
        "id": "view-in-github",
        "colab_type": "text"
      },
      "source": [
        "<a href=\"https://colab.research.google.com/github/mikelabadie/Earnings_Call_Transcripts/blob/master/analysis_topics.ipynb\" target=\"_parent\"><img src=\"https://colab.research.google.com/assets/colab-badge.svg\" alt=\"Open In Colab\"/></a>"
      ]
    },
    {
      "metadata": {
        "id": "NO7sjxQ77sLH",
        "colab_type": "text"
      },
      "cell_type": "markdown",
      "source": [
        "## Preprocessing: Tools"
      ]
    },
    {
      "metadata": {
        "id": "AhnqrF-l1SN-",
        "colab_type": "text"
      },
      "cell_type": "markdown",
      "source": [
        "#### Main Imports"
      ]
    },
    {
      "metadata": {
        "id": "Sy5TZPEl135W",
        "colab_type": "code",
        "colab": {}
      },
      "cell_type": "code",
      "source": [
        "! pip install pyLDAvis\n",
        "\n",
        "from IPython.display import clear_output\n",
        "\n",
        "import numpy as np\n",
        "import nltk\n",
        "nltk.download('wordnet')\n",
        "\n",
        "import spacy\n",
        "spacynlp = spacy.load('en_core_web_sm')\n",
        "\n",
        "import gensim\n",
        "import gensim.corpora as corpora\n",
        "from gensim.utils import simple_preprocess\n",
        "from gensim.models import CoherenceModel\n",
        "\n",
        "# Plotting tools\n",
        "import pyLDAvis\n",
        "import pyLDAvis.gensim  # don't skip this\n",
        "\n",
        "import matplotlib.pyplot as plt\n",
        "%matplotlib inline\n",
        "\n",
        "# Enable logging for gensim - optional\n",
        "import logging\n",
        "logging.basicConfig(format='%(asctime)s : %(levelname)s : %(message)s', level=logging.ERROR)\n",
        "\n",
        "import warnings\n",
        "warnings.filterwarnings(\"ignore\",category=DeprecationWarning)\n",
        "\n",
        "import time\n",
        "\n",
        "from sklearn.feature_extraction.text import TfidfVectorizer, CountVectorizer\n",
        "from sklearn.decomposition import NMF, LatentDirichletAllocation\n",
        "\n",
        "nltk.download('stopwords')\n",
        "\n",
        "from nltk.corpus import stopwords\n",
        "stop = set(stopwords.words('english'))\n",
        "\n",
        "import string\n",
        "exclude = set(string.punctuation)\n",
        "\n",
        "from nltk.stem.wordnet import WordNetLemmatizer\n",
        "\n",
        "lemma = WordNetLemmatizer()\n",
        "\n",
        "def clean(doc):\n",
        "    stop_free = \" \".join([i for i in doc.lower().split() if i not in stop])\n",
        "    stop_free = stop_free.replace(\"-\", \" \")\n",
        "    punc_free = ''.join(ch for ch in stop_free if ch not in exclude)\n",
        "    normalized = \" \".join(lemma.lemmatize(word) for word in punc_free.split())\n",
        "    return normalized \n",
        "  \n",
        "clear_output()"
      ],
      "execution_count": 0,
      "outputs": []
    },
    {
      "metadata": {
        "id": "uQbmkN8r1Kee",
        "colab_type": "text"
      },
      "cell_type": "markdown",
      "source": [
        "#### Get CIK for a Ticker"
      ]
    },
    {
      "metadata": {
        "id": "LgPoHMV4whrO",
        "colab_type": "code",
        "colab": {}
      },
      "cell_type": "code",
      "source": [
        "from bs4 import BeautifulSoup\n",
        "import requests\n",
        "from urllib.parse import urlparse\n",
        "\n",
        "def get_CIK(ticker):\n",
        "    URL = \"https://www.sec.gov/cgi-bin/browse-edgar?CIK=\"+ticker+\"&owner=exclude&action=getcompany\"\n",
        "    page = requests.get(URL)\n",
        "    soup = BeautifulSoup(page.text, \"html.parser\")\n",
        "    CIK = soup.find(attrs={\"name\": \"CIK\"})\n",
        "    return CIK[\"value\"]"
      ],
      "execution_count": 0,
      "outputs": []
    },
    {
      "metadata": {
        "id": "3k0FwXSTASQE",
        "colab_type": "text"
      },
      "cell_type": "markdown",
      "source": [
        "#### Functions to Plot Heatmap and Get the Line Items from Financial Statements for a Ticker"
      ]
    },
    {
      "metadata": {
        "id": "zGbR5xGk9bXG",
        "colab_type": "code",
        "colab": {}
      },
      "cell_type": "code",
      "source": [
        "import seaborn as sns\n",
        "\n",
        "def make_heatmap(results):\n",
        "    fig = plt.figure(figsize=(10,6))\n",
        "  \n",
        "    inc_lines_in_call = results.sum().sort_values()\n",
        "    inc_lines_in_call = inc_lines_in_call[inc_lines_in_call > 0].index.values\n",
        "\n",
        "    if inc_lines_in_call.any():\n",
        "        sns.heatmap(results[inc_lines_in_call].T)\n",
        "    else:\n",
        "        sns.heatmap(results.T)\n",
        "    \n",
        "    plt.show()\n",
        "    \n",
        "def get_inc_stmt_lines(ticker):\n",
        "    cik=str(int(get_CIK(ticker)))\n",
        "    items_to_find = df_fin_stmt_items[df_fin_stmt_items[\"cik\"]==cik]\n",
        "    #net_inc = items_to_find[items_to_find[\"plabel\"].str.match(\"[N|n]et.*[I|i]ncome\")][\"line\"].min()\n",
        "    #items_to_find = items_to_find[items_to_find[\"line\"]<=net_inc]\n",
        "    items_to_find = list(items_to_find[\"plabel\"])+list(items_to_find[\"tlabel\"])\n",
        "\n",
        "    items_to_find = [item.lower().replace(\",\",\"\") for item in items_to_find]\n",
        "    #items_to_find += [item.replace(\"profit\",\"margin\") for item in items_to_find if \"profit\" in item]\n",
        "    #items_to_find += [\"of sales\",\"of revenues\",\"of revenue\"]\n",
        "    #items_to_find += [item.replace(\"net \",\"\") for item in items_to_find if \"net\" in item]\n",
        "    \n",
        "    return list(np.unique(items_to_find))"
      ],
      "execution_count": 0,
      "outputs": []
    },
    {
      "metadata": {
        "id": "EBSKtWKn7k-X",
        "colab_type": "text"
      },
      "cell_type": "markdown",
      "source": [
        "## Preprocessing: Bring in Data\n"
      ]
    },
    {
      "metadata": {
        "id": "qQPFLUMSL845",
        "colab_type": "code",
        "colab": {}
      },
      "cell_type": "code",
      "source": [
        "data_directory = \"/content/gdrive/My Drive/DATS6450 - Labadie - Data/\""
      ],
      "execution_count": 0,
      "outputs": []
    },
    {
      "metadata": {
        "id": "ZqO0g6dtwjT8",
        "colab_type": "text"
      },
      "cell_type": "markdown",
      "source": [
        "#### Read Call Pickle and Build Meta-data and Text DataFrames"
      ]
    },
    {
      "metadata": {
        "id": "TwdjbLSwSX6I",
        "colab_type": "code",
        "outputId": "e0344c7a-eba6-493b-903e-2ac1650d76c4",
        "colab": {
          "base_uri": "https://localhost:8080/",
          "height": 34
        }
      },
      "cell_type": "code",
      "source": [
        "# import the call dataset\n",
        "import pandas as pd\n",
        "import numpy as np\n",
        "import pickle\n",
        "import os\n",
        "\n",
        "from google.colab import drive\n",
        "drive.mount('/content/gdrive')\n",
        "\n",
        "if os.path.exists(data_directory+\"ProcessedCallsPickleUpdated_v2\"):\n",
        "    pfile = open(data_directory+\"ProcessedCallsPickleUpdated_v2\", \"rb\")\n",
        "    calls = pickle.load(pfile)                 \n",
        "    pfile.close()\n",
        "    \n",
        "df_metadata = calls[\"metadata\"]\n",
        "df_text = calls[\"text\"]\n",
        "  \n",
        "clear_output()\n",
        "\n",
        "print(\"Metadata Shape:\",df_metadata.shape, \"Text Shape:\",df_text.shape)"
      ],
      "execution_count": 3,
      "outputs": [
        {
          "output_type": "stream",
          "text": [
            "Metadata Shape: (5101, 6) Text Shape: (640132, 11)\n"
          ],
          "name": "stdout"
        }
      ]
    },
    {
      "metadata": {
        "id": "MaH6Q2UjwXs7",
        "colab_type": "text"
      },
      "cell_type": "markdown",
      "source": [
        "#### List of Companies and Industries/Sectors"
      ]
    },
    {
      "metadata": {
        "id": "Ms180OaaoR_A",
        "colab_type": "code",
        "outputId": "01f72a3c-98fe-4b6e-b4af-91b7bb51c214",
        "colab": {
          "base_uri": "https://localhost:8080/",
          "height": 34
        }
      },
      "cell_type": "code",
      "source": [
        "company_list = pd.read_csv(data_directory+\"companylist.csv\")\n",
        "company_list.shape"
      ],
      "execution_count": 4,
      "outputs": [
        {
          "output_type": "execute_result",
          "data": {
            "text/plain": [
              "(5285, 9)"
            ]
          },
          "metadata": {
            "tags": []
          },
          "execution_count": 4
        }
      ]
    },
    {
      "metadata": {
        "id": "olzc5IH5wNp9",
        "colab_type": "text"
      },
      "cell_type": "markdown",
      "source": [
        "#### Tickers -> CIK:  Used to connect to financial statements from SEC"
      ]
    },
    {
      "metadata": {
        "id": "bJIzH6B8gr8F",
        "colab_type": "code",
        "outputId": "94eb500f-dc4a-4e47-933d-d7fa8098fcaa",
        "colab": {
          "base_uri": "https://localhost:8080/",
          "height": 34
        }
      },
      "cell_type": "code",
      "source": [
        "cik_ticker_map = pd.read_csv(data_directory+\"cik_ticker.csv\",sep=\"|\",dtype={\"CIK\":object})\n",
        "cik_ticker_map.shape"
      ],
      "execution_count": 5,
      "outputs": [
        {
          "output_type": "execute_result",
          "data": {
            "text/plain": [
              "(13737, 8)"
            ]
          },
          "metadata": {
            "tags": []
          },
          "execution_count": 5
        }
      ]
    },
    {
      "metadata": {
        "id": "lPzU4_YUwIFv",
        "colab_type": "text"
      },
      "cell_type": "markdown",
      "source": [
        "#### Financial Statement Data"
      ]
    },
    {
      "metadata": {
        "id": "5dacIbxKwC6L",
        "colab_type": "code",
        "colab": {}
      },
      "cell_type": "code",
      "source": [
        "#%%\n",
        "directory=data_directory+\"2018q4/\"\n",
        "\n",
        "filename = directory + \"sub.txt\"\n",
        "df_sub = pd.read_table(filename,dtype={\"cik\":object})\n",
        "#df_sub=df_sub.merge(cik_ticker_map,left_on=[\"cik\"],right_on=[\"CIK\"],how=\"left\")\n",
        "\n",
        "filename = directory + \"tag.txt\"\n",
        "df_tag = pd.read_table(filename,dtype={\"cik\":object})\n",
        "\n",
        "filename = directory + \"pre.txt\"\n",
        "df_pre = pd.read_table(filename,dtype={\"cik\":object})\n",
        "\n",
        "filename = directory + \"num.txt\"\n",
        "df_num = pd.read_table(filename,dtype={\"cik\":object})\n",
        "\n",
        "df_fin_stmt = df_sub.merge(df_pre).merge(df_num).merge(df_tag)\n",
        "df_fin_stmt_items = df_fin_stmt[df_fin_stmt[\"stmt\"]==\"IS\"][[\"cik\",\"line\",\"plabel\",\"tlabel\"]].drop_duplicates()"
      ],
      "execution_count": 0,
      "outputs": []
    },
    {
      "metadata": {
        "id": "CcDLsJ96rwUe",
        "colab_type": "text"
      },
      "cell_type": "markdown",
      "source": [
        "## Preprocessing: Create a List of Tickers to Analyze"
      ]
    },
    {
      "metadata": {
        "id": "khyyg1zpTMAo",
        "colab_type": "code",
        "outputId": "dc972894-299a-495d-9f28-c7e82fd1337b",
        "colab": {
          "base_uri": "https://localhost:8080/",
          "height": 34
        }
      },
      "cell_type": "code",
      "source": [
        "industry=\"Industrial Machinery/Components\"\n",
        "ticker_list = list(company_list[(company_list[\"Industry\"]==industry)][\"Symbol\"])\n",
        "\n",
        "calls_to_use = df_metadata[(df_metadata[\"ticker\"].isin(ticker_list))].sort_values(by=[\"ticker\"])\n",
        "print(\"Number of Calls:\",calls_to_use.shape[0])"
      ],
      "execution_count": 7,
      "outputs": [
        {
          "output_type": "stream",
          "text": [
            "Number of Calls: 183\n"
          ],
          "name": "stdout"
        }
      ]
    },
    {
      "metadata": {
        "id": "E42bQOgB9FzQ",
        "colab_type": "text"
      },
      "cell_type": "markdown",
      "source": [
        "## Topic Modeling:  Analyze Paragraphs using Financial Statements"
      ]
    },
    {
      "metadata": {
        "id": "yFWijnvCDilm",
        "colab_type": "text"
      },
      "cell_type": "markdown",
      "source": [
        "#### Build Line Items Vocabulary"
      ]
    },
    {
      "metadata": {
        "id": "GfzQmCiZpc5f",
        "colab_type": "code",
        "colab": {}
      },
      "cell_type": "code",
      "source": [
        "line_items = []\n",
        "\n",
        "num_calls = -1\n",
        "for _, row in calls_to_use[0:num_calls].iterrows():\n",
        "    line_items+=get_inc_stmt_lines(row[\"ticker\"])\n",
        "    \n",
        "line_items=set(line_items)\n",
        "\n",
        "max_ngram = np.max([len(item.split()) for item in line_items])\n",
        "min_ngram = np.min([len(item.split()) for item in line_items])"
      ],
      "execution_count": 0,
      "outputs": []
    },
    {
      "metadata": {
        "id": "HCsTETFMH7Bz",
        "colab_type": "text"
      },
      "cell_type": "markdown",
      "source": [
        "#### Manual Adds to Vocabulary"
      ]
    },
    {
      "metadata": {
        "id": "QfKx7U2pH-bL",
        "colab_type": "code",
        "colab": {}
      },
      "cell_type": "code",
      "source": [
        "line_items.add(\"tax cuts\")\n",
        "line_items.add(\"tariff\")\n",
        "line_items.add(\"tariffs\")\n",
        "line_items.add(\"white house\")\n",
        "line_items.add(\"ebitda\")\n",
        "line_items.add(\"ebitda margins\")\n",
        "line_items.add(\"ebitda margin\")"
      ],
      "execution_count": 0,
      "outputs": []
    },
    {
      "metadata": {
        "id": "H3rON6XrAeRe",
        "colab_type": "text"
      },
      "cell_type": "markdown",
      "source": [
        "#### Perform Cleaning of a Paragraph Based on Financial \"Lingo\""
      ]
    },
    {
      "metadata": {
        "id": "zVUwnpDgjFFO",
        "colab_type": "code",
        "colab": {}
      },
      "cell_type": "code",
      "source": [
        "def clean_paragraph(paragraph):\n",
        "    #paragraph = paragraph.replace(\" of revenue\",\" \").replace(\" of revenues\",\" \").replace(\" of sales\",\" \")\n",
        "    return paragraph"
      ],
      "execution_count": 0,
      "outputs": []
    },
    {
      "metadata": {
        "id": "ex_1_AlRApo8",
        "colab_type": "text"
      },
      "cell_type": "markdown",
      "source": [
        "#### Analyze Usage of Terms from Financial Statements on Earnings Calls\n",
        "This looks across all calls and builds a dictionary of all the terms used both in financial statements and earnings."
      ]
    },
    {
      "metadata": {
        "id": "PtnP00dGNk4w",
        "colab_type": "code",
        "colab": {}
      },
      "cell_type": "code",
      "source": [
        "prepared_remarks = df_text[(df_text[\"Call Section\"]==\"Prepared Remarks\")&\n",
        "                           (df_text[\"Speaker\"]!=\"Operator\")&\n",
        "                           (df_text[\"ticker\"].isin(ticker_list))]\n",
        "\n",
        "corpus = list(prepared_remarks[\"Text\"])\n",
        "corpus = [clean_paragraph(paragraph) for paragraph in corpus]\n",
        "\n",
        "tfidf_vectorizer = TfidfVectorizer(ngram_range=(min_ngram, max_ngram),vocabulary=line_items)\n",
        "tfidf = tfidf_vectorizer.fit_transform(corpus)\n",
        "\n",
        "results = pd.DataFrame(data=tfidf.toarray(), index=prepared_remarks.index.values, columns=tfidf_vectorizer.get_feature_names())\n",
        "inc_lines_in_call = results.sum().sort_values()\n",
        "inc_lines_in_call = list(inc_lines_in_call[inc_lines_in_call > 0].index.values)\n",
        "results = results[inc_lines_in_call]"
      ],
      "execution_count": 0,
      "outputs": []
    },
    {
      "metadata": {
        "id": "uLDZHNW_Ps4H",
        "colab_type": "code",
        "colab": {}
      },
      "cell_type": "code",
      "source": [
        "fig = plt.figure(figsize=(15,15))\n",
        "x = results.iloc[0:25,]\n",
        "sns.heatmap(x)\n",
        "plt.show()"
      ],
      "execution_count": 0,
      "outputs": []
    },
    {
      "metadata": {
        "id": "hlgvpIgkc6vy",
        "colab_type": "text"
      },
      "cell_type": "markdown",
      "source": [
        "#### Heatmap of Term by Paragraph"
      ]
    },
    {
      "metadata": {
        "id": "BcMxJWLB4Rg3",
        "colab_type": "code",
        "outputId": "57b0777f-36a6-470e-cf6a-b46e44304635",
        "colab": {
          "base_uri": "https://localhost:8080/",
          "height": 956
        }
      },
      "cell_type": "code",
      "source": [
        "num_calls = 2\n",
        "for _, row in calls_to_use[0:num_calls].iterrows():\n",
        "    print(row.name)\n",
        "    prepared_remarks = df_text[(df_text[\"Call Section\"]==\"Prepared Remarks\")&\n",
        "                               (df_text[\"Speaker\"]!=\"Operator\")&\n",
        "                               (df_text[\"Link\"]==row[\"Link\"])]\n",
        "    \n",
        "    corpus = list(prepared_remarks[\"Text\"])\n",
        "    corpus = [clean_paragraph(paragraph) for paragraph in corpus]\n",
        "    tfidf_vectorizer = TfidfVectorizer(ngram_range=(min_ngram, max_ngram),vocabulary=line_items)\n",
        "    tfidf = tfidf_vectorizer.fit_transform(corpus)\n",
        "\n",
        "    results = pd.DataFrame(data=tfidf.toarray(), index=prepared_remarks.index.values, columns=tfidf_vectorizer.get_feature_names())\n",
        "    make_heatmap(results)    \n",
        "    print()"
      ],
      "execution_count": 257,
      "outputs": [
        {
          "output_type": "stream",
          "text": [
            "https://www.fool.com/earnings/call-transcripts/2018/11/01/aaon-inc-aaon-q3-2018-earnings-conference-call-tra.aspx\n"
          ],
          "name": "stdout"
        },
        {
          "output_type": "display_data",
          "data": {
            "image/png": "[encoded data removed]",
            "text/plain": [
              "<Figure size 720x432 with 2 Axes>"
            ]
          },
          "metadata": {
            "tags": []
          }
        },
        {
          "output_type": "stream",
          "text": [
            "\n",
            "https://www.fool.com/earnings/call-transcripts/2019/03/02/aaon-inc-aaon-q4-2018-earnings-conference-call-tra.aspx\n"
          ],
          "name": "stdout"
        },
        {
          "output_type": "display_data",
          "data": {
            "image/png": "[encoded data removed]",
            "text/plain": [
              "<Figure size 720x432 with 2 Axes>"
            ]
          },
          "metadata": {
            "tags": []
          }
        },
        {
          "output_type": "stream",
          "text": [
            "\n"
          ],
          "name": "stdout"
        }
      ]
    },
    {
      "metadata": {
        "id": "nEzcNUhE71zl",
        "colab_type": "text"
      },
      "cell_type": "markdown",
      "source": [
        "## Topic Modeling:  Assign a Topic to Each Paragraph"
      ]
    },
    {
      "metadata": {
        "id": "bXkQBVC1ikUo",
        "colab_type": "text"
      },
      "cell_type": "markdown",
      "source": [
        "#### Add to Stop Lists Based on Companies"
      ]
    },
    {
      "metadata": {
        "id": "10pJVh8Qjx3f",
        "colab_type": "code",
        "colab": {}
      },
      "cell_type": "code",
      "source": [
        "removal_list = [\"The\",\"International\",\"Incorporated\",\"Inc\",\"Corporation\",\"Corp\",\"Group\",\"Holdings\",\"Company\",\"Co.\",\"Brands\",\".\",\",\",\"&\"]\n",
        "#removal_list += [\"Restaurants\",\"Restaurant\",\"Stores\",\"Store\"]\n",
        "\n",
        "def clean_company_name(name):\n",
        "    for item in removal_list:\n",
        "        name = name.replace(item,\"\")\n",
        "    return name.strip()\n",
        "\n",
        "company_stop_words = np.unique([clean_company_name(x) for x in calls_to_use[\"company\"].values])"
      ],
      "execution_count": 0,
      "outputs": []
    },
    {
      "metadata": {
        "id": "hRw594M8ny6P",
        "colab_type": "code",
        "colab": {}
      },
      "cell_type": "code",
      "source": [
        "#[stop.add(x) for x in company_stop_words]"
      ],
      "execution_count": 0,
      "outputs": []
    },
    {
      "metadata": {
        "id": "DbwoXGHFnQgb",
        "colab_type": "text"
      },
      "cell_type": "markdown",
      "source": [
        "#### Build Corpus"
      ]
    },
    {
      "metadata": {
        "id": "2ujY8Z7t13h2",
        "colab_type": "code",
        "outputId": "6869f803-29e2-4a23-83e4-ff8bdd43527d",
        "colab": {
          "base_uri": "https://localhost:8080/",
          "height": 52
        }
      },
      "cell_type": "code",
      "source": [
        "corpus, named_ents, call_names, paragraph_nums, corpus_whole_calls, call_names_whole_calls = [], [], [], [], [], []\n",
        "\n",
        "num_calls = 2\n",
        "for _, row in calls_to_use[0:num_calls].iterrows():\n",
        "    print(row[\"Link\"])\n",
        "    prepared_remarks = df_text[df_text[\"Link\"]==row[\"Link\"]]\n",
        "    prepared_remarks = prepared_remarks[(prepared_remarks[\"Call Section\"]==\"Prepared Remarks\")&(prepared_remarks[\"Speaker\"]!=\"Operator\")]\n",
        "    \n",
        "    #corpus += list(prepared_remarks[\"Cleaned Text\"])\n",
        "    cleaned_text_for_call = [clean(paragraph) for paragraph in prepared_remarks[\"Text\"]]\n",
        "    corpus += cleaned_text_for_call\n",
        "    \n",
        "    for paragraph in prepared_remarks[\"Text\"]:\n",
        "        ents = spacynlp(paragraph).ents\n",
        "        named_ents.append([ent.text.replace(\"\\n\",\"\").upper() for ent in ents])\n",
        "    \n",
        "    call_names += list(prepared_remarks.index)\n",
        "    \n",
        "    paragraph_nums  += list(prepared_remarks[\"Call Paragraph Num\"])\n",
        "    \n",
        "    corpus_whole_calls.append(\" \".join(cleaned_text_for_call))\n",
        "    call_names_whole_calls.append(row[\"ticker\"] + \" \" + row[\"period\"])\n"
      ],
      "execution_count": 13,
      "outputs": [
        {
          "output_type": "stream",
          "text": [
            "https://www.fool.com/earnings/call-transcripts/2018/11/01/aaon-inc-aaon-q3-2018-earnings-conference-call-tra.aspx\n",
            "https://www.fool.com/earnings/call-transcripts/2019/03/02/aaon-inc-aaon-q4-2018-earnings-conference-call-tra.aspx\n"
          ],
          "name": "stdout"
        }
      ]
    },
    {
      "metadata": {
        "id": "EA4IwAfnphtc",
        "colab_type": "text"
      },
      "cell_type": "markdown",
      "source": [
        "#### Scikit Learn Topic Modeling"
      ]
    },
    {
      "metadata": {
        "id": "CCYVJ2GVdtM1",
        "colab_type": "code",
        "colab": {}
      },
      "cell_type": "code",
      "source": [
        "def print_top_words(model, feature_names, n_top_words):\n",
        "    for topic_idx, topic in enumerate(model.components_):\n",
        "        message = \"Topic #%d: \" % topic_idx\n",
        "        message += \" \".join([feature_names[i] for i in topic.argsort()[:-n_top_words - 1:-1]])\n",
        "        print(message)\n",
        "    print()"
      ],
      "execution_count": 0,
      "outputs": []
    },
    {
      "metadata": {
        "id": "bR45vsjtzyD5",
        "colab_type": "code",
        "colab": {
          "base_uri": "https://localhost:8080/",
          "height": 468
        },
        "outputId": "33ad5a61-1624-45ec-97de-ab586dd5a9cf"
      },
      "cell_type": "code",
      "source": [
        "n_components = 25\n",
        "n_top_words = 5\n",
        "\n",
        "from sklearn.feature_extraction.text import TfidfVectorizer, CountVectorizer\n",
        "from sklearn.decomposition import NMF, LatentDirichletAllocation\n",
        "\n",
        "tfidf_vectorizer  = TfidfVectorizer(ngram_range=(1,1),min_df=0.001,max_df=0.25)\n",
        "tfidf = tfidf_vectorizer .fit_transform(corpus)\n",
        "nmf = NMF(n_components=n_components, random_state=1, alpha=.1, l1_ratio=.5).fit(tfidf)\n",
        "tfidf_feature_names = tfidf_vectorizer.get_feature_names()\n",
        "print_top_words(nmf, tfidf_feature_names, n_top_words)\n",
        "\n",
        "W = nmf.fit_transform(tfidf)\n",
        "df_topics = pd.DataFrame(W,index=call_names)"
      ],
      "execution_count": 15,
      "outputs": [
        {
          "output_type": "stream",
          "text": [
            "Topic #0: share per earnings diluted decreased\n",
            "Topic #1: price increase backlog june weve\n",
            "Topic #2: sga decrease expense increased percentage\n",
            "Topic #3: tax rate effective decreased act\n",
            "Topic #4: statement aaons looking forward including\n",
            "Topic #5: 31 december increase net result\n",
            "Topic #6: capital 31 balance december expenditure\n",
            "Topic #7: gross profit quarter company compared\n",
            "Topic #8: open question moderator ill that\n",
            "Topic #9: lab believe exists anywhere ton\n",
            "Topic #10: turn like detail discus id\n",
            "Topic #11: young east debt deal day\n",
            "Topic #12: september net 30 month mainly\n",
            "Topic #13: market went 50 change commercial\n",
            "Topic #14: another quarter one increase likewise\n",
            "Topic #15: attractive customer upon 32 astoundingly\n",
            "Topic #16: scheduled lab april utilization target\n",
            "Topic #17: compounded aaon annual growth per\n",
            "Topic #18: talk curve painstaking catching materialize\n",
            "Topic #19: young woman instead appointed is\n",
            "Topic #20: unit whats sold pace 115\n",
            "Topic #21: this simultaneously senior stay climate\n",
            "Topic #22: pay coast money however one\n",
            "Topic #23: software line system automated portion\n",
            "Topic #24: air handler equipment opportunity little\n",
            "\n"
          ],
          "name": "stdout"
        }
      ]
    },
    {
      "metadata": {
        "id": "mzS-QH4yuH6I",
        "colab_type": "code",
        "colab": {
          "base_uri": "https://localhost:8080/",
          "height": 208
        },
        "outputId": "c36b73cb-d4cf-4f45-deb7-9a81eea0215b"
      },
      "cell_type": "code",
      "source": [
        "df_topics[4].sort_values(ascending=False).head(10)"
      ],
      "execution_count": 16,
      "outputs": [
        {
          "output_type": "execute_result",
          "data": {
            "text/plain": [
              "AAON Q3 2018 2     1.177043\n",
              "AAON Q4 2018 1     1.025454\n",
              "AAON Q4 2018 2     0.519422\n",
              "AAON Q4 2018 26    0.129147\n",
              "AAON Q4 2018 7     0.000000\n",
              "AAON Q4 2018 6     0.000000\n",
              "AAON Q4 2018 5     0.000000\n",
              "AAON Q4 2018 4     0.000000\n",
              "AAON Q4 2018 3     0.000000\n",
              "AAON Q4 2018 9     0.000000\n",
              "Name: 4, dtype: float64"
            ]
          },
          "metadata": {
            "tags": []
          },
          "execution_count": 16
        }
      ]
    },
    {
      "metadata": {
        "id": "20YVVVrouv1n",
        "colab_type": "code",
        "colab": {
          "base_uri": "https://localhost:8080/",
          "height": 208
        },
        "outputId": "e5d08399-8667-4fff-cd74-98d3ef1c436b"
      },
      "cell_type": "code",
      "source": [
        "df_topics.loc[\"AAON Q4 2018 1\",].sort_values(ascending=False).head(10)"
      ],
      "execution_count": 17,
      "outputs": [
        {
          "output_type": "execute_result",
          "data": {
            "text/plain": [
              "4     1.025454\n",
              "24    0.000000\n",
              "11    0.000000\n",
              "1     0.000000\n",
              "2     0.000000\n",
              "3     0.000000\n",
              "5     0.000000\n",
              "6     0.000000\n",
              "7     0.000000\n",
              "8     0.000000\n",
              "Name: AAON Q4 2018 1, dtype: float64"
            ]
          },
          "metadata": {
            "tags": []
          },
          "execution_count": 17
        }
      ]
    },
    {
      "metadata": {
        "id": "i05q5epqEXIB",
        "colab_type": "code",
        "colab": {
          "base_uri": "https://localhost:8080/",
          "height": 717
        },
        "outputId": "9d189bbd-a6ad-44aa-9982-6a71dbbe37fa"
      },
      "cell_type": "code",
      "source": [
        "f,axs = plt.subplots(1,1,figsize=(6,12))\n",
        "sns.heatmap(df_topics)"
      ],
      "execution_count": 18,
      "outputs": [
        {
          "output_type": "execute_result",
          "data": {
            "text/plain": [
              "<matplotlib.axes._subplots.AxesSubplot at 0x7f6aceaefa20>"
            ]
          },
          "metadata": {
            "tags": []
          },
          "execution_count": 18
        },
        {
          "output_type": "display_data",
          "data": {
            "image/png": "[encoded data removed]",
            "text/plain": [
              "<Figure size 432x864 with 2 Axes>"
            ]
          },
          "metadata": {
            "tags": []
          }
        }
      ]
    },
    {
      "metadata": {
        "id": "Z2KeQ2twbEl2",
        "colab_type": "text"
      },
      "cell_type": "markdown",
      "source": [
        "## Topic Modeling:  Text Summarization using Text Rank"
      ]
    },
    {
      "metadata": {
        "id": "jpYHtoYgpIWe",
        "colab_type": "code",
        "colab": {}
      },
      "cell_type": "code",
      "source": [
        "! pip install summa\n",
        "clear_output()"
      ],
      "execution_count": 0,
      "outputs": []
    },
    {
      "metadata": {
        "id": "YVzJUOYLbKbV",
        "colab_type": "code",
        "colab": {
          "base_uri": "https://localhost:8080/",
          "height": 1949
        },
        "outputId": "2b02d16e-f289-41f5-ebeb-b77a694054d6"
      },
      "cell_type": "code",
      "source": [
        "from summa import keywords\n",
        "from summa.summarizer import summarize\n",
        "\n",
        "corpus, named_ents, call_names, paragraph_nums, corpus_whole_calls, call_names_whole_calls = [], [], [], [], [], []\n",
        "\n",
        "num_calls = 10\n",
        "for _, row in calls_to_use[0:num_calls].iterrows():\n",
        "    prepared_remarks = df_text[(df_text[\"Call Section\"]==\"Prepared Remarks\")&\n",
        "                               (df_text[\"Speaker\"]!=\"Operator\")&\n",
        "                               (df_text[\"Link\"]==row[\"Link\"])]\n",
        "    \n",
        "    addl_stopwords = [\"good\",\"looking\",\"like\"]\n",
        "    corpus += [keywords.keywords(paragraph, ratio=0.1, additional_stopwords=addl_stopwords).split() for paragraph in prepared_remarks[\"Text\"]]   \n",
        "    call_names += list(prepared_remarks.index)\n",
        "\n",
        "pd.DataFrame(corpus,index=call_names)"
      ],
      "execution_count": 65,
      "outputs": [
        {
          "output_type": "execute_result",
          "data": {
            "text/html": [
              "<div>\n",
              "<style scoped>\n",
              "    .dataframe tbody tr th:only-of-type {\n",
              "        vertical-align: middle;\n",
              "    }\n",
              "\n",
              "    .dataframe tbody tr th {\n",
              "        vertical-align: top;\n",
              "    }\n",
              "\n",
              "    .dataframe thead th {\n",
              "        text-align: right;\n",
              "    }\n",
              "</style>\n",
              "<table border=\"1\" class=\"dataframe\">\n",
              "  <thead>\n",
              "    <tr style=\"text-align: right;\">\n",
              "      <th></th>\n",
              "      <th>0</th>\n",
              "      <th>1</th>\n",
              "      <th>2</th>\n",
              "      <th>3</th>\n",
              "      <th>4</th>\n",
              "      <th>5</th>\n",
              "      <th>6</th>\n",
              "      <th>7</th>\n",
              "    </tr>\n",
              "  </thead>\n",
              "  <tbody>\n",
              "    <tr>\n",
              "      <th>AAON Q3 2018 2</th>\n",
              "      <td>forward</td>\n",
              "      <td>necessarily</td>\n",
              "      <td>statement</td>\n",
              "      <td>None</td>\n",
              "      <td>None</td>\n",
              "      <td>None</td>\n",
              "      <td>None</td>\n",
              "      <td>None</td>\n",
              "    </tr>\n",
              "    <tr>\n",
              "      <th>AAON Q3 2018 3</th>\n",
              "      <td>None</td>\n",
              "      <td>None</td>\n",
              "      <td>None</td>\n",
              "      <td>None</td>\n",
              "      <td>None</td>\n",
              "      <td>None</td>\n",
              "      <td>None</td>\n",
              "      <td>None</td>\n",
              "    </tr>\n",
              "    <tr>\n",
              "      <th>AAON Q3 2018 4</th>\n",
              "      <td>comparative</td>\n",
              "      <td>None</td>\n",
              "      <td>None</td>\n",
              "      <td>None</td>\n",
              "      <td>None</td>\n",
              "      <td>None</td>\n",
              "      <td>None</td>\n",
              "      <td>None</td>\n",
              "    </tr>\n",
              "    <tr>\n",
              "      <th>AAON Q3 2018 5</th>\n",
              "      <td>profit</td>\n",
              "      <td>None</td>\n",
              "      <td>None</td>\n",
              "      <td>None</td>\n",
              "      <td>None</td>\n",
              "      <td>None</td>\n",
              "      <td>None</td>\n",
              "      <td>None</td>\n",
              "    </tr>\n",
              "    <tr>\n",
              "      <th>AAON Q3 2018 6</th>\n",
              "      <td>None</td>\n",
              "      <td>None</td>\n",
              "      <td>None</td>\n",
              "      <td>None</td>\n",
              "      <td>None</td>\n",
              "      <td>None</td>\n",
              "      <td>None</td>\n",
              "      <td>None</td>\n",
              "    </tr>\n",
              "    <tr>\n",
              "      <th>AAON Q3 2018 7</th>\n",
              "      <td>tax</td>\n",
              "      <td>None</td>\n",
              "      <td>None</td>\n",
              "      <td>None</td>\n",
              "      <td>None</td>\n",
              "      <td>None</td>\n",
              "      <td>None</td>\n",
              "      <td>None</td>\n",
              "    </tr>\n",
              "    <tr>\n",
              "      <th>AAON Q3 2018 8</th>\n",
              "      <td>share</td>\n",
              "      <td>shares</td>\n",
              "      <td>None</td>\n",
              "      <td>None</td>\n",
              "      <td>None</td>\n",
              "      <td>None</td>\n",
              "      <td>None</td>\n",
              "      <td>None</td>\n",
              "    </tr>\n",
              "    <tr>\n",
              "      <th>AAON Q3 2018 9</th>\n",
              "      <td>net</td>\n",
              "      <td>september</td>\n",
              "      <td>None</td>\n",
              "      <td>None</td>\n",
              "      <td>None</td>\n",
              "      <td>None</td>\n",
              "      <td>None</td>\n",
              "      <td>None</td>\n",
              "    </tr>\n",
              "    <tr>\n",
              "      <th>AAON Q3 2018 10</th>\n",
              "      <td>profit</td>\n",
              "      <td>None</td>\n",
              "      <td>None</td>\n",
              "      <td>None</td>\n",
              "      <td>None</td>\n",
              "      <td>None</td>\n",
              "      <td>None</td>\n",
              "      <td>None</td>\n",
              "    </tr>\n",
              "    <tr>\n",
              "      <th>AAON Q3 2018 11</th>\n",
              "      <td>company</td>\n",
              "      <td>None</td>\n",
              "      <td>None</td>\n",
              "      <td>None</td>\n",
              "      <td>None</td>\n",
              "      <td>None</td>\n",
              "      <td>None</td>\n",
              "      <td>None</td>\n",
              "    </tr>\n",
              "    <tr>\n",
              "      <th>AAON Q3 2018 12</th>\n",
              "      <td>selling</td>\n",
              "      <td>None</td>\n",
              "      <td>None</td>\n",
              "      <td>None</td>\n",
              "      <td>None</td>\n",
              "      <td>None</td>\n",
              "      <td>None</td>\n",
              "      <td>None</td>\n",
              "    </tr>\n",
              "    <tr>\n",
              "      <th>AAON Q3 2018 13</th>\n",
              "      <td>tax</td>\n",
              "      <td>None</td>\n",
              "      <td>None</td>\n",
              "      <td>None</td>\n",
              "      <td>None</td>\n",
              "      <td>None</td>\n",
              "      <td>None</td>\n",
              "      <td>None</td>\n",
              "    </tr>\n",
              "    <tr>\n",
              "      <th>AAON Q3 2018 14</th>\n",
              "      <td>share</td>\n",
              "      <td>shares</td>\n",
              "      <td>None</td>\n",
              "      <td>None</td>\n",
              "      <td>None</td>\n",
              "      <td>None</td>\n",
              "      <td>None</td>\n",
              "      <td>None</td>\n",
              "    </tr>\n",
              "    <tr>\n",
              "      <th>AAON Q3 2018 15</th>\n",
              "      <td>capital</td>\n",
              "      <td>million</td>\n",
              "      <td>shareholders</td>\n",
              "      <td>None</td>\n",
              "      <td>None</td>\n",
              "      <td>None</td>\n",
              "      <td>None</td>\n",
              "      <td>None</td>\n",
              "    </tr>\n",
              "    <tr>\n",
              "      <th>AAON Q3 2018 16</th>\n",
              "      <td>None</td>\n",
              "      <td>None</td>\n",
              "      <td>None</td>\n",
              "      <td>None</td>\n",
              "      <td>None</td>\n",
              "      <td>None</td>\n",
              "      <td>None</td>\n",
              "      <td>None</td>\n",
              "    </tr>\n",
              "    <tr>\n",
              "      <th>AAON Q3 2018 17</th>\n",
              "      <td>sales</td>\n",
              "      <td>decreased</td>\n",
              "      <td>None</td>\n",
              "      <td>None</td>\n",
              "      <td>None</td>\n",
              "      <td>None</td>\n",
              "      <td>None</td>\n",
              "      <td>None</td>\n",
              "    </tr>\n",
              "    <tr>\n",
              "      <th>AAON Q3 2018 18</th>\n",
              "      <td>None</td>\n",
              "      <td>None</td>\n",
              "      <td>None</td>\n",
              "      <td>None</td>\n",
              "      <td>None</td>\n",
              "      <td>None</td>\n",
              "      <td>None</td>\n",
              "      <td>None</td>\n",
              "    </tr>\n",
              "    <tr>\n",
              "      <th>AAON Q3 2018 19</th>\n",
              "      <td>pump</td>\n",
              "      <td>business</td>\n",
              "      <td>heat</td>\n",
              "      <td>None</td>\n",
              "      <td>None</td>\n",
              "      <td>None</td>\n",
              "      <td>None</td>\n",
              "      <td>None</td>\n",
              "    </tr>\n",
              "    <tr>\n",
              "      <th>AAON Q3 2018 20</th>\n",
              "      <td>continued</td>\n",
              "      <td>None</td>\n",
              "      <td>None</td>\n",
              "      <td>None</td>\n",
              "      <td>None</td>\n",
              "      <td>None</td>\n",
              "      <td>None</td>\n",
              "      <td>None</td>\n",
              "    </tr>\n",
              "    <tr>\n",
              "      <th>AAON Q3 2018 21</th>\n",
              "      <td>segments</td>\n",
              "      <td>remained</td>\n",
              "      <td>fairly</td>\n",
              "      <td>None</td>\n",
              "      <td>None</td>\n",
              "      <td>None</td>\n",
              "      <td>None</td>\n",
              "      <td>None</td>\n",
              "    </tr>\n",
              "    <tr>\n",
              "      <th>AAON Q3 2018 22</th>\n",
              "      <td>million</td>\n",
              "      <td>versus</td>\n",
              "      <td>ago</td>\n",
              "      <td>None</td>\n",
              "      <td>None</td>\n",
              "      <td>None</td>\n",
              "      <td>None</td>\n",
              "      <td>None</td>\n",
              "    </tr>\n",
              "    <tr>\n",
              "      <th>AAON Q3 2018 23</th>\n",
              "      <td>gross</td>\n",
              "      <td>profit</td>\n",
              "      <td>None</td>\n",
              "      <td>None</td>\n",
              "      <td>None</td>\n",
              "      <td>None</td>\n",
              "      <td>None</td>\n",
              "      <td>None</td>\n",
              "    </tr>\n",
              "    <tr>\n",
              "      <th>AAON Q3 2018 24</th>\n",
              "      <td>time</td>\n",
              "      <td>talked</td>\n",
              "      <td>None</td>\n",
              "      <td>None</td>\n",
              "      <td>None</td>\n",
              "      <td>None</td>\n",
              "      <td>None</td>\n",
              "      <td>None</td>\n",
              "    </tr>\n",
              "    <tr>\n",
              "      <th>AAON Q3 2018 25</th>\n",
              "      <td>None</td>\n",
              "      <td>None</td>\n",
              "      <td>None</td>\n",
              "      <td>None</td>\n",
              "      <td>None</td>\n",
              "      <td>None</td>\n",
              "      <td>None</td>\n",
              "      <td>None</td>\n",
              "    </tr>\n",
              "    <tr>\n",
              "      <th>AAON Q4 2018 1</th>\n",
              "      <td>necessarily</td>\n",
              "      <td>None</td>\n",
              "      <td>None</td>\n",
              "      <td>None</td>\n",
              "      <td>None</td>\n",
              "      <td>None</td>\n",
              "      <td>None</td>\n",
              "      <td>None</td>\n",
              "    </tr>\n",
              "    <tr>\n",
              "      <th>AAON Q4 2018 2</th>\n",
              "      <td>factors</td>\n",
              "      <td>None</td>\n",
              "      <td>None</td>\n",
              "      <td>None</td>\n",
              "      <td>None</td>\n",
              "      <td>None</td>\n",
              "      <td>None</td>\n",
              "      <td>None</td>\n",
              "    </tr>\n",
              "    <tr>\n",
              "      <th>AAON Q4 2018 3</th>\n",
              "      <td>None</td>\n",
              "      <td>None</td>\n",
              "      <td>None</td>\n",
              "      <td>None</td>\n",
              "      <td>None</td>\n",
              "      <td>None</td>\n",
              "      <td>None</td>\n",
              "      <td>None</td>\n",
              "    </tr>\n",
              "    <tr>\n",
              "      <th>AAON Q4 2018 4</th>\n",
              "      <td>gross</td>\n",
              "      <td>None</td>\n",
              "      <td>None</td>\n",
              "      <td>None</td>\n",
              "      <td>None</td>\n",
              "      <td>None</td>\n",
              "      <td>None</td>\n",
              "      <td>None</td>\n",
              "    </tr>\n",
              "    <tr>\n",
              "      <th>AAON Q4 2018 5</th>\n",
              "      <td>sales</td>\n",
              "      <td>None</td>\n",
              "      <td>None</td>\n",
              "      <td>None</td>\n",
              "      <td>None</td>\n",
              "      <td>None</td>\n",
              "      <td>None</td>\n",
              "      <td>None</td>\n",
              "    </tr>\n",
              "    <tr>\n",
              "      <th>AAON Q4 2018 6</th>\n",
              "      <td>tax</td>\n",
              "      <td>income</td>\n",
              "      <td>None</td>\n",
              "      <td>None</td>\n",
              "      <td>None</td>\n",
              "      <td>None</td>\n",
              "      <td>None</td>\n",
              "      <td>None</td>\n",
              "    </tr>\n",
              "    <tr>\n",
              "      <th>...</th>\n",
              "      <td>...</td>\n",
              "      <td>...</td>\n",
              "      <td>...</td>\n",
              "      <td>...</td>\n",
              "      <td>...</td>\n",
              "      <td>...</td>\n",
              "      <td>...</td>\n",
              "      <td>...</td>\n",
              "    </tr>\n",
              "    <tr>\n",
              "      <th>AIMC Q3 2018 27</th>\n",
              "      <td>gaap</td>\n",
              "      <td>None</td>\n",
              "      <td>None</td>\n",
              "      <td>None</td>\n",
              "      <td>None</td>\n",
              "      <td>None</td>\n",
              "      <td>None</td>\n",
              "      <td>None</td>\n",
              "    </tr>\n",
              "    <tr>\n",
              "      <th>AIMC Q3 2018 28</th>\n",
              "      <td>summarize</td>\n",
              "      <td>integration</td>\n",
              "      <td>seamlessly</td>\n",
              "      <td>integrated</td>\n",
              "      <td>None</td>\n",
              "      <td>None</td>\n",
              "      <td>None</td>\n",
              "      <td>None</td>\n",
              "    </tr>\n",
              "    <tr>\n",
              "      <th>AIMC Q3 2018 29</th>\n",
              "      <td>enhanced</td>\n",
              "      <td>financial</td>\n",
              "      <td>scale</td>\n",
              "      <td>None</td>\n",
              "      <td>None</td>\n",
              "      <td>None</td>\n",
              "      <td>None</td>\n",
              "      <td>None</td>\n",
              "    </tr>\n",
              "    <tr>\n",
              "      <th>AIMC Q3 2018 30</th>\n",
              "      <td>altra</td>\n",
              "      <td>team</td>\n",
              "      <td>base</td>\n",
              "      <td>None</td>\n",
              "      <td>None</td>\n",
              "      <td>None</td>\n",
              "      <td>None</td>\n",
              "      <td>None</td>\n",
              "    </tr>\n",
              "    <tr>\n",
              "      <th>ALG Q3 2018 2</th>\n",
              "      <td>release</td>\n",
              "      <td>None</td>\n",
              "      <td>None</td>\n",
              "      <td>None</td>\n",
              "      <td>None</td>\n",
              "      <td>None</td>\n",
              "      <td>None</td>\n",
              "      <td>None</td>\n",
              "    </tr>\n",
              "    <tr>\n",
              "      <th>ALG Q3 2018 3</th>\n",
              "      <td>controller</td>\n",
              "      <td>management</td>\n",
              "      <td>corporate</td>\n",
              "      <td>None</td>\n",
              "      <td>None</td>\n",
              "      <td>None</td>\n",
              "      <td>None</td>\n",
              "      <td>None</td>\n",
              "    </tr>\n",
              "    <tr>\n",
              "      <th>ALG Q3 2018 4</th>\n",
              "      <td>make</td>\n",
              "      <td>making</td>\n",
              "      <td>forward</td>\n",
              "      <td>harbor</td>\n",
              "      <td>report</td>\n",
              "      <td>None</td>\n",
              "      <td>None</td>\n",
              "      <td>None</td>\n",
              "    </tr>\n",
              "    <tr>\n",
              "      <th>ALG Q3 2018 5</th>\n",
              "      <td>None</td>\n",
              "      <td>None</td>\n",
              "      <td>None</td>\n",
              "      <td>None</td>\n",
              "      <td>None</td>\n",
              "      <td>None</td>\n",
              "      <td>None</td>\n",
              "      <td>None</td>\n",
              "    </tr>\n",
              "    <tr>\n",
              "      <th>ALG Q3 2018 6</th>\n",
              "      <td>None</td>\n",
              "      <td>None</td>\n",
              "      <td>None</td>\n",
              "      <td>None</td>\n",
              "      <td>None</td>\n",
              "      <td>None</td>\n",
              "      <td>None</td>\n",
              "      <td>None</td>\n",
              "    </tr>\n",
              "    <tr>\n",
              "      <th>ALG Q3 2018 7</th>\n",
              "      <td>None</td>\n",
              "      <td>None</td>\n",
              "      <td>None</td>\n",
              "      <td>None</td>\n",
              "      <td>None</td>\n",
              "      <td>None</td>\n",
              "      <td>None</td>\n",
              "      <td>None</td>\n",
              "    </tr>\n",
              "    <tr>\n",
              "      <th>ALG Q3 2018 8</th>\n",
              "      <td>tax</td>\n",
              "      <td>division</td>\n",
              "      <td>quarter</td>\n",
              "      <td>businesses</td>\n",
              "      <td>None</td>\n",
              "      <td>None</td>\n",
              "      <td>None</td>\n",
              "      <td>None</td>\n",
              "    </tr>\n",
              "    <tr>\n",
              "      <th>ALG Q3 2018 9</th>\n",
              "      <td>sales</td>\n",
              "      <td>agricultural</td>\n",
              "      <td>None</td>\n",
              "      <td>None</td>\n",
              "      <td>None</td>\n",
              "      <td>None</td>\n",
              "      <td>None</td>\n",
              "      <td>None</td>\n",
              "    </tr>\n",
              "    <tr>\n",
              "      <th>ALG Q3 2018 10</th>\n",
              "      <td>currency</td>\n",
              "      <td>sales</td>\n",
              "      <td>None</td>\n",
              "      <td>None</td>\n",
              "      <td>None</td>\n",
              "      <td>None</td>\n",
              "      <td>None</td>\n",
              "      <td>None</td>\n",
              "    </tr>\n",
              "    <tr>\n",
              "      <th>ALG Q3 2018 11</th>\n",
              "      <td>sales</td>\n",
              "      <td>gross</td>\n",
              "      <td>quarter</td>\n",
              "      <td>cost</td>\n",
              "      <td>costs</td>\n",
              "      <td>None</td>\n",
              "      <td>None</td>\n",
              "      <td>None</td>\n",
              "    </tr>\n",
              "    <tr>\n",
              "      <th>ALG Q3 2018 12</th>\n",
              "      <td>year</td>\n",
              "      <td>None</td>\n",
              "      <td>None</td>\n",
              "      <td>None</td>\n",
              "      <td>None</td>\n",
              "      <td>None</td>\n",
              "      <td>None</td>\n",
              "      <td>None</td>\n",
              "    </tr>\n",
              "    <tr>\n",
              "      <th>ALG Q3 2018 13</th>\n",
              "      <td>effective</td>\n",
              "      <td>None</td>\n",
              "      <td>None</td>\n",
              "      <td>None</td>\n",
              "      <td>None</td>\n",
              "      <td>None</td>\n",
              "      <td>None</td>\n",
              "      <td>None</td>\n",
              "    </tr>\n",
              "    <tr>\n",
              "      <th>ALG Q3 2018 14</th>\n",
              "      <td>share</td>\n",
              "      <td>None</td>\n",
              "      <td>None</td>\n",
              "      <td>None</td>\n",
              "      <td>None</td>\n",
              "      <td>None</td>\n",
              "      <td>None</td>\n",
              "      <td>None</td>\n",
              "    </tr>\n",
              "    <tr>\n",
              "      <th>ALG Q3 2018 15</th>\n",
              "      <td>high</td>\n",
              "      <td>capital</td>\n",
              "      <td>period</td>\n",
              "      <td>operating</td>\n",
              "      <td>None</td>\n",
              "      <td>None</td>\n",
              "      <td>None</td>\n",
              "      <td>None</td>\n",
              "    </tr>\n",
              "    <tr>\n",
              "      <th>ALG Q3 2018 16</th>\n",
              "      <td>capital</td>\n",
              "      <td>rental</td>\n",
              "      <td>fleet</td>\n",
              "      <td>working</td>\n",
              "      <td>None</td>\n",
              "      <td>None</td>\n",
              "      <td>None</td>\n",
              "      <td>None</td>\n",
              "    </tr>\n",
              "    <tr>\n",
              "      <th>ALG Q3 2018 17</th>\n",
              "      <td>tax</td>\n",
              "      <td>continued</td>\n",
              "      <td>None</td>\n",
              "      <td>None</td>\n",
              "      <td>None</td>\n",
              "      <td>None</td>\n",
              "      <td>None</td>\n",
              "      <td>None</td>\n",
              "    </tr>\n",
              "    <tr>\n",
              "      <th>ALG Q3 2018 18</th>\n",
              "      <td>None</td>\n",
              "      <td>None</td>\n",
              "      <td>None</td>\n",
              "      <td>None</td>\n",
              "      <td>None</td>\n",
              "      <td>None</td>\n",
              "      <td>None</td>\n",
              "      <td>None</td>\n",
              "    </tr>\n",
              "    <tr>\n",
              "      <th>ALG Q3 2018 19</th>\n",
              "      <td>hi</td>\n",
              "      <td>thank</td>\n",
              "      <td>satisfied</td>\n",
              "      <td>None</td>\n",
              "      <td>None</td>\n",
              "      <td>None</td>\n",
              "      <td>None</td>\n",
              "      <td>None</td>\n",
              "    </tr>\n",
              "    <tr>\n",
              "      <th>ALG Q3 2018 20</th>\n",
              "      <td>quarter</td>\n",
              "      <td>fourth</td>\n",
              "      <td>None</td>\n",
              "      <td>None</td>\n",
              "      <td>None</td>\n",
              "      <td>None</td>\n",
              "      <td>None</td>\n",
              "      <td>None</td>\n",
              "    </tr>\n",
              "    <tr>\n",
              "      <th>ALG Q3 2018 21</th>\n",
              "      <td>measures</td>\n",
              "      <td>included</td>\n",
              "      <td>None</td>\n",
              "      <td>None</td>\n",
              "      <td>None</td>\n",
              "      <td>None</td>\n",
              "      <td>None</td>\n",
              "      <td>None</td>\n",
              "    </tr>\n",
              "    <tr>\n",
              "      <th>ALG Q3 2018 22</th>\n",
              "      <td>results</td>\n",
              "      <td>None</td>\n",
              "      <td>None</td>\n",
              "      <td>None</td>\n",
              "      <td>None</td>\n",
              "      <td>None</td>\n",
              "      <td>None</td>\n",
              "      <td>None</td>\n",
              "    </tr>\n",
              "    <tr>\n",
              "      <th>ALG Q3 2018 23</th>\n",
              "      <td>market</td>\n",
              "      <td>farm</td>\n",
              "      <td>None</td>\n",
              "      <td>None</td>\n",
              "      <td>None</td>\n",
              "      <td>None</td>\n",
              "      <td>None</td>\n",
              "      <td>None</td>\n",
              "    </tr>\n",
              "    <tr>\n",
              "      <th>ALG Q3 2018 24</th>\n",
              "      <td>operations</td>\n",
              "      <td>operation</td>\n",
              "      <td>corrective</td>\n",
              "      <td>actions</td>\n",
              "      <td>None</td>\n",
              "      <td>None</td>\n",
              "      <td>None</td>\n",
              "      <td>None</td>\n",
              "    </tr>\n",
              "    <tr>\n",
              "      <th>ALG Q3 2018 25</th>\n",
              "      <td>generate</td>\n",
              "      <td>None</td>\n",
              "      <td>None</td>\n",
              "      <td>None</td>\n",
              "      <td>None</td>\n",
              "      <td>None</td>\n",
              "      <td>None</td>\n",
              "      <td>None</td>\n",
              "    </tr>\n",
              "    <tr>\n",
              "      <th>ALG Q3 2018 26</th>\n",
              "      <td>team</td>\n",
              "      <td>management</td>\n",
              "      <td>None</td>\n",
              "      <td>None</td>\n",
              "      <td>None</td>\n",
              "      <td>None</td>\n",
              "      <td>None</td>\n",
              "      <td>None</td>\n",
              "    </tr>\n",
              "    <tr>\n",
              "      <th>ALG Q3 2018 27</th>\n",
              "      <td>None</td>\n",
              "      <td>None</td>\n",
              "      <td>None</td>\n",
              "      <td>None</td>\n",
              "      <td>None</td>\n",
              "      <td>None</td>\n",
              "      <td>None</td>\n",
              "      <td>None</td>\n",
              "    </tr>\n",
              "  </tbody>\n",
              "</table>\n",
              "<p>309 rows × 8 columns</p>\n",
              "</div>"
            ],
            "text/plain": [
              "                           0             1             2           3       4  \\\n",
              "AAON Q3 2018 2       forward   necessarily     statement        None    None   \n",
              "AAON Q3 2018 3          None          None          None        None    None   \n",
              "AAON Q3 2018 4   comparative          None          None        None    None   \n",
              "AAON Q3 2018 5        profit          None          None        None    None   \n",
              "AAON Q3 2018 6          None          None          None        None    None   \n",
              "AAON Q3 2018 7           tax          None          None        None    None   \n",
              "AAON Q3 2018 8         share        shares          None        None    None   \n",
              "AAON Q3 2018 9           net     september          None        None    None   \n",
              "AAON Q3 2018 10       profit          None          None        None    None   \n",
              "AAON Q3 2018 11      company          None          None        None    None   \n",
              "AAON Q3 2018 12      selling          None          None        None    None   \n",
              "AAON Q3 2018 13          tax          None          None        None    None   \n",
              "AAON Q3 2018 14        share        shares          None        None    None   \n",
              "AAON Q3 2018 15      capital       million  shareholders        None    None   \n",
              "AAON Q3 2018 16         None          None          None        None    None   \n",
              "AAON Q3 2018 17        sales     decreased          None        None    None   \n",
              "AAON Q3 2018 18         None          None          None        None    None   \n",
              "AAON Q3 2018 19         pump      business          heat        None    None   \n",
              "AAON Q3 2018 20    continued          None          None        None    None   \n",
              "AAON Q3 2018 21     segments      remained        fairly        None    None   \n",
              "AAON Q3 2018 22      million        versus           ago        None    None   \n",
              "AAON Q3 2018 23        gross        profit          None        None    None   \n",
              "AAON Q3 2018 24         time        talked          None        None    None   \n",
              "AAON Q3 2018 25         None          None          None        None    None   \n",
              "AAON Q4 2018 1   necessarily          None          None        None    None   \n",
              "AAON Q4 2018 2       factors          None          None        None    None   \n",
              "AAON Q4 2018 3          None          None          None        None    None   \n",
              "AAON Q4 2018 4         gross          None          None        None    None   \n",
              "AAON Q4 2018 5         sales          None          None        None    None   \n",
              "AAON Q4 2018 6           tax        income          None        None    None   \n",
              "...                      ...           ...           ...         ...     ...   \n",
              "AIMC Q3 2018 27         gaap          None          None        None    None   \n",
              "AIMC Q3 2018 28    summarize   integration    seamlessly  integrated    None   \n",
              "AIMC Q3 2018 29     enhanced     financial         scale        None    None   \n",
              "AIMC Q3 2018 30        altra          team          base        None    None   \n",
              "ALG Q3 2018 2        release          None          None        None    None   \n",
              "ALG Q3 2018 3     controller    management     corporate        None    None   \n",
              "ALG Q3 2018 4           make        making       forward      harbor  report   \n",
              "ALG Q3 2018 5           None          None          None        None    None   \n",
              "ALG Q3 2018 6           None          None          None        None    None   \n",
              "ALG Q3 2018 7           None          None          None        None    None   \n",
              "ALG Q3 2018 8            tax      division       quarter  businesses    None   \n",
              "ALG Q3 2018 9          sales  agricultural          None        None    None   \n",
              "ALG Q3 2018 10      currency         sales          None        None    None   \n",
              "ALG Q3 2018 11         sales         gross       quarter        cost   costs   \n",
              "ALG Q3 2018 12          year          None          None        None    None   \n",
              "ALG Q3 2018 13     effective          None          None        None    None   \n",
              "ALG Q3 2018 14         share          None          None        None    None   \n",
              "ALG Q3 2018 15          high       capital        period   operating    None   \n",
              "ALG Q3 2018 16       capital        rental         fleet     working    None   \n",
              "ALG Q3 2018 17           tax     continued          None        None    None   \n",
              "ALG Q3 2018 18          None          None          None        None    None   \n",
              "ALG Q3 2018 19            hi         thank     satisfied        None    None   \n",
              "ALG Q3 2018 20       quarter        fourth          None        None    None   \n",
              "ALG Q3 2018 21      measures      included          None        None    None   \n",
              "ALG Q3 2018 22       results          None          None        None    None   \n",
              "ALG Q3 2018 23        market          farm          None        None    None   \n",
              "ALG Q3 2018 24    operations     operation    corrective     actions    None   \n",
              "ALG Q3 2018 25      generate          None          None        None    None   \n",
              "ALG Q3 2018 26          team    management          None        None    None   \n",
              "ALG Q3 2018 27          None          None          None        None    None   \n",
              "\n",
              "                    5     6     7  \n",
              "AAON Q3 2018 2   None  None  None  \n",
              "AAON Q3 2018 3   None  None  None  \n",
              "AAON Q3 2018 4   None  None  None  \n",
              "AAON Q3 2018 5   None  None  None  \n",
              "AAON Q3 2018 6   None  None  None  \n",
              "AAON Q3 2018 7   None  None  None  \n",
              "AAON Q3 2018 8   None  None  None  \n",
              "AAON Q3 2018 9   None  None  None  \n",
              "AAON Q3 2018 10  None  None  None  \n",
              "AAON Q3 2018 11  None  None  None  \n",
              "AAON Q3 2018 12  None  None  None  \n",
              "AAON Q3 2018 13  None  None  None  \n",
              "AAON Q3 2018 14  None  None  None  \n",
              "AAON Q3 2018 15  None  None  None  \n",
              "AAON Q3 2018 16  None  None  None  \n",
              "AAON Q3 2018 17  None  None  None  \n",
              "AAON Q3 2018 18  None  None  None  \n",
              "AAON Q3 2018 19  None  None  None  \n",
              "AAON Q3 2018 20  None  None  None  \n",
              "AAON Q3 2018 21  None  None  None  \n",
              "AAON Q3 2018 22  None  None  None  \n",
              "AAON Q3 2018 23  None  None  None  \n",
              "AAON Q3 2018 24  None  None  None  \n",
              "AAON Q3 2018 25  None  None  None  \n",
              "AAON Q4 2018 1   None  None  None  \n",
              "AAON Q4 2018 2   None  None  None  \n",
              "AAON Q4 2018 3   None  None  None  \n",
              "AAON Q4 2018 4   None  None  None  \n",
              "AAON Q4 2018 5   None  None  None  \n",
              "AAON Q4 2018 6   None  None  None  \n",
              "...               ...   ...   ...  \n",
              "AIMC Q3 2018 27  None  None  None  \n",
              "AIMC Q3 2018 28  None  None  None  \n",
              "AIMC Q3 2018 29  None  None  None  \n",
              "AIMC Q3 2018 30  None  None  None  \n",
              "ALG Q3 2018 2    None  None  None  \n",
              "ALG Q3 2018 3    None  None  None  \n",
              "ALG Q3 2018 4    None  None  None  \n",
              "ALG Q3 2018 5    None  None  None  \n",
              "ALG Q3 2018 6    None  None  None  \n",
              "ALG Q3 2018 7    None  None  None  \n",
              "ALG Q3 2018 8    None  None  None  \n",
              "ALG Q3 2018 9    None  None  None  \n",
              "ALG Q3 2018 10   None  None  None  \n",
              "ALG Q3 2018 11   None  None  None  \n",
              "ALG Q3 2018 12   None  None  None  \n",
              "ALG Q3 2018 13   None  None  None  \n",
              "ALG Q3 2018 14   None  None  None  \n",
              "ALG Q3 2018 15   None  None  None  \n",
              "ALG Q3 2018 16   None  None  None  \n",
              "ALG Q3 2018 17   None  None  None  \n",
              "ALG Q3 2018 18   None  None  None  \n",
              "ALG Q3 2018 19   None  None  None  \n",
              "ALG Q3 2018 20   None  None  None  \n",
              "ALG Q3 2018 21   None  None  None  \n",
              "ALG Q3 2018 22   None  None  None  \n",
              "ALG Q3 2018 23   None  None  None  \n",
              "ALG Q3 2018 24   None  None  None  \n",
              "ALG Q3 2018 25   None  None  None  \n",
              "ALG Q3 2018 26   None  None  None  \n",
              "ALG Q3 2018 27   None  None  None  \n",
              "\n",
              "[309 rows x 8 columns]"
            ]
          },
          "metadata": {
            "tags": []
          },
          "execution_count": 65
        }
      ]
    },
    {
      "metadata": {
        "id": "rvCZBMXUkjFt",
        "colab_type": "text"
      },
      "cell_type": "markdown",
      "source": [
        "## Next Technique:  Cross Document Structure"
      ]
    },
    {
      "metadata": {
        "id": "swiR1_kak5sd",
        "colab_type": "text"
      },
      "cell_type": "markdown",
      "source": [
        "## Next Technique:  Text Tiling"
      ]
    },
    {
      "metadata": {
        "id": "BHxouQXmk_lE",
        "colab_type": "text"
      },
      "cell_type": "markdown",
      "source": [
        "## Next Technique:  Topic Tiling"
      ]
    },
    {
      "metadata": {
        "id": "qQvERZEclzW9",
        "colab_type": "text"
      },
      "cell_type": "markdown",
      "source": [
        "## Next Technique:  Text Reuse (Croft)"
      ]
    }
  ]
}