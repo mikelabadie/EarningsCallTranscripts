{
  "nbformat": 4,
  "nbformat_minor": 0,
  "metadata": {
    "colab": {
      "name": "quality analysis.ipynb",
      "version": "0.3.2",
      "provenance": [],
      "collapsed_sections": [],
      "include_colab_link": true
    },
    "kernelspec": {
      "name": "python3",
      "display_name": "Python 3"
    }
  },
  "cells": [
    {
      "cell_type": "markdown",
      "metadata": {
        "id": "view-in-github",
        "colab_type": "text"
      },
      "source": [
        "<a href=\"https://colab.research.google.com/github/mikelabadie/Earnings_Call_Transcripts/blob/master/quality_analysis.ipynb\" target=\"_parent\"><img src=\"https://colab.research.google.com/assets/colab-badge.svg\" alt=\"Open In Colab\"/></a>"
      ]
    },
    {
      "metadata": {
        "id": "TwdjbLSwSX6I",
        "colab_type": "code",
        "colab": {}
      },
      "cell_type": "code",
      "source": [
        "import pandas as pd\n",
        "import re\n",
        "\n",
        "#%% import the call dataset\n",
        "import pickle\n",
        "import os\n",
        "\n",
        "from google.colab import drive\n",
        "drive.mount('/content/gdrive')\n",
        "\n",
        "if os.path.exists(\"/content/gdrive/My Drive/School/DATS 6450 - NLP/Code/Project/ProcessedCallsPickle\"):\n",
        "    pfile = open(\"/content/gdrive/My Drive/School/DATS 6450 - NLP/Code/Project/ProcessedCallsPickle\", \"rb\") \n",
        "    calls = pickle.load(pfile)                      \n",
        "    pfile.close()\n",
        "    \n",
        "metadata={link:data[\"metadata\"] for link, data in calls.items()}\n",
        "df_metadata = pd.DataFrame.from_dict(metadata, orient=\"index\")\n",
        "\n",
        "text={link:data[\"text\"] for link, data in calls.items()}\n",
        "\n",
        "#%%\n",
        "cols = ['company', 'ticker', 'exchange', 'period', 'period_end_date', 'call date', 'call time', 'duration']\n",
        "for name in cols:\n",
        "    print(name, df_metadata[df_metadata[name].isnull()].shape[0])\n",
        "\n",
        "#%%\n",
        "cols = ['period', 'period_end_date', 'call date', 'call time', 'duration']\n",
        "cols = [\"ticker\"]\n",
        "for name in cols:\n",
        "    print(name)\n",
        "    print(df_metadata[name].value_counts(dropna=False))\n",
        "    \n",
        "#%%\n",
        "df_metadata[df_metadata[\"exchange\"].isnull()].index\n",
        "\n",
        "#%%\n",
        "count=0\n",
        "for _ , row in df_metadata.iterrows():\n",
        "    val = row[\"first paragraph\"]\n",
        "    #match = re.search(\" ?[0-9]?[0-9]:[0-9][0-9] ?(a\\.?m\\.?|p\\.?m\\.?)( ?ET)?\", val)\n",
        "    #match = re.search(\"(\\\"date\\\"|/)> ?.*[0-9]?[0-9],? ?20[0-9][0-9]\", val)\n",
        "    if val != None:\n",
        "        match = re.search(\"(>|\\() ?.{1,10}:.{1,5}(<|\\))\", val)\n",
        "        if match:\n",
        "            #print(match.group(0).replace(\"<\",\"\").replace(\">\",\"\").replace(\"(\",\"\").replace(\")\",\"\").replace(\" \",\"\").split(\":\"))\n",
        "            count+=1\n",
        "        else:\n",
        "            print(row.name)\n",
        "            print(row[\"header1\"])\n",
        "            print(row[\"header2\"])\n",
        "            print(val)\n",
        "            print()\n",
        "    else:\n",
        "        df_metadata\n",
        "        \n",
        "print(count)"
      ],
      "execution_count": 0,
      "outputs": []
    }
  ]
}